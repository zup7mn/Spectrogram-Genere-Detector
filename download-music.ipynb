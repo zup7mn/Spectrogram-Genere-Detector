{
 "cells": [
  {
   "cell_type": "code",
   "execution_count": 1,
   "id": "5788b228",
   "metadata": {},
   "outputs": [],
   "source": [
    "import subprocess\n",
    "import os"
   ]
  },
  {
   "cell_type": "markdown",
   "id": "aaa3100f",
   "metadata": {},
   "source": [
    "List of Genres to Download"
   ]
  },
  {
   "cell_type": "code",
   "execution_count": 4,
   "id": "f4cb48d4",
   "metadata": {},
   "outputs": [],
   "source": [
    "playlist_links = {\n",
    "    \"Pop\": \"https://open.spotify.com/playlist/37i9dQZF1DXcBWIGoYBM5M\",\n",
    "    \"Hip-Hop\": \"https://open.spotify.com/playlist/37i9dQZF1DX0XUsuxWHRQd\",\n",
    "    \"Classical\": \"https://open.spotify.com/playlist/37i9dQZF1DWWEJlAGA9gs0\",\n",
    "    \"Alt-Rock\": \"https://open.spotify.com/playlist/37i9dQZF1DXcF6B6QPhFDv\",\n",
    "    \"Classic-Rock\": \"https://open.spotify.com/playlist/37i9dQZF1DWXRqgorJj26U\",\n",
    "    \"New-Jazz\": \"https://open.spotify.com/playlist/37i9dQZF1DX7YCknf2jT6s\",\n",
    "    \"Classic-Jazz\": \"https://open.spotify.com/playlist/37i9dQZF1DXbITWG1ZJKYt\",\n",
    "    \"EDM\": \"https://open.spotify.com/playlist/37i9dQZF1DXbITWG1ZJKYt\",\n",
    "    \"Country\": \"https://open.spotify.com/playlist/37i9dQZF1DXbITWG1ZJKYt\",\n",
    "    \"Metal\": \"https://open.spotify.com/playlist/37i9dQZF1DWTcqUzwhNmKv\",\n",
    "    \"Latin\": \"https://open.spotify.com/playlist/37i9dQZF1DWTcqUzwhNmKv\",\n",
    "    \"Soul\": \"https://open.spotify.com/playlist/37i9dQZF1DWULEW2RfoSCi\",\n",
    "    \"Blues\": \"https://open.spotify.com/playlist/37i9dQZF1DXd9rSDyQguIk\",\n",
    "    \"Folk\": \"https://open.spotify.com/playlist/37i9dQZF1DXc6IFF23C9jj\",\n",
    "    \"Lo-Fi\": \"https://open.spotify.com/playlist/37i9dQZF1DXdbXrPNafg9d\",\n",
    "    \"K-Pop\": \"https://open.spotify.com/playlist/37i9dQZF1DX9tPFwDMOaN1\"\n",
    "}"
   ]
  },
  {
   "cell_type": "markdown",
   "id": "9dfd7af5",
   "metadata": {},
   "source": [
    "I tried to get Zotify to automatically download each playlist into a specific folder based on the \"genre\" key. This proved to be unworkable. The orgininal Zotify is no longer supported or working, and the fork I am using has some conflicts. Because of this, I needed to download all my music to my Music folder under [USER] and then manually copy each playlist into its proper \"MusicDB\" folder.\n",
    "\n",
    "You can see the zotify settings I used under the [config.json](zotify/config.json) file.\n"
   ]
  },
  {
   "cell_type": "code",
   "execution_count": null,
   "id": "b285ac39",
   "metadata": {},
   "outputs": [],
   "source": [
    "for genre in playlist_links:\n",
    "\n",
    "        # Download each of the playlist links. I'll have to manually move them to my Music-DB folder because Zotify \n",
    "        # does not recognize when it is being told to output to a specific directory. \n",
    "        # It always goes to the Music folder in [USER]\n",
    "        result = subprocess.run([\"zotify\",  \"--download-quality\",\"normal\",f\"{playlist_links[genre]}\"], capture_output=True, text=True)\n",
    "        print(result.stdout)"
   ]
  },
  {
   "cell_type": "code",
   "execution_count": null,
   "id": "ac62fba9",
   "metadata": {},
   "outputs": [],
   "source": []
  },
  {
   "cell_type": "code",
   "execution_count": 5,
   "id": "6f851911",
   "metadata": {},
   "outputs": [],
   "source": [
    "with open(\"zotify_commands.txt\", \"w\") as f:\n",
    "    for value in playlist_links.values():\n",
    "        f.write(f\"zotify --download-quality normal {value}\\n\")"
   ]
  },
  {
   "cell_type": "code",
   "execution_count": 3,
   "id": "4edaf58e",
   "metadata": {},
   "outputs": [],
   "source": [
    "with open(\"dict_values.txt\", \"w\") as f:\n",
    "    f.write(' '.join(str(value) for value in playlist_links.values()))"
   ]
  },
  {
   "cell_type": "code",
   "execution_count": null,
   "id": "8974af3d",
   "metadata": {},
   "outputs": [],
   "source": []
  }
 ],
 "metadata": {
  "kernelspec": {
   "display_name": "Spectro",
   "language": "python",
   "name": "python3"
  },
  "language_info": {
   "codemirror_mode": {
    "name": "ipython",
    "version": 3
   },
   "file_extension": ".py",
   "mimetype": "text/x-python",
   "name": "python",
   "nbconvert_exporter": "python",
   "pygments_lexer": "ipython3",
   "version": "3.13.5"
  }
 },
 "nbformat": 4,
 "nbformat_minor": 5
}
