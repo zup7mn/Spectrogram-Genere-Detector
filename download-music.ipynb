{
 "cells": [
  {
   "cell_type": "code",
   "execution_count": 2,
   "id": "5788b228",
   "metadata": {},
   "outputs": [],
   "source": [
    "import subprocess\n",
    "import os"
   ]
  },
  {
   "cell_type": "markdown",
   "id": "aaa3100f",
   "metadata": {},
   "source": [
    "List of Genres to Download"
   ]
  },
  {
   "cell_type": "code",
   "execution_count": 3,
   "id": "f4cb48d4",
   "metadata": {},
   "outputs": [],
   "source": [
    "playlist_links = {\n",
    "    \"Pop\": \"https://open.spotify.com/playlist/37i9dQZF1DXcBWIGoYBM5M?si=7d5cafbc061247b7\",\n",
    "    \"Hip-Hop\": \"https://open.spotify.com/playlist/37i9dQZF1DX0XUsuxWHRQd?si=197362f6edb94b46\",\n",
    "    \"Classical\": \"https://open.spotify.com/playlist/37i9dQZF1DWWEJlAGA9gs0?si=30b639eb44dd4e89\",\n",
    "    \"Alt-Rock\": \"https://open.spotify.com/playlist/37i9dQZF1DXcF6B6QPhFDv?si=78ab7f1b9fc74219\",\n",
    "    \"Classic-Rock\": \"https://open.spotify.com/playlist/37i9dQZF1DWXRqgorJj26U?si=4a5014076e3147fc\",\n",
    "    \"New-Jazz\": \"https://open.spotify.com/playlist/37i9dQZF1DX7YCknf2jT6s?si=22464a1655f44746\",\n",
    "    \"Classic-Jazz\": \"https://open.spotify.com/playlist/37i9dQZF1DXbITWG1ZJKYt?si=c095708ded3c4199\",\n",
    "    \"EDM\": \"https://open.spotify.com/playlist/37i9dQZF1DXbITWG1ZJKYt?si=c095708ded3c4199\",\n",
    "    \"Country\": \"https://open.spotify.com/playlist/37i9dQZF1DXbITWG1ZJKYt?si=c095708ded3c4199\",\n",
    "    \"Metal\": \"https://open.spotify.com/playlist/37i9dQZF1DWTcqUzwhNmKv?si=5f294838aee54c21\",\n",
    "    \"Latin\": \"https://open.spotify.com/playlist/37i9dQZF1DWTcqUzwhNmKv?si=5f294838aee54c21\",\n",
    "    \"Soul\": \"https://open.spotify.com/playlist/37i9dQZF1DWULEW2RfoSCi\",\n",
    "    \"Blues\": \"https://open.spotify.com/playlist/37i9dQZF1DXd9rSDyQguIk\",\n",
    "    \"Folk\": \"https://open.spotify.com/playlist/37i9dQZF1DXc6IFF23C9jj\",\n",
    "    \"Lo-Fi\": \"https://open.spotify.com/playlist/37i9dQZF1DXdbXrPNafg9d\",\n",
    "    \"K-Pop\": \"https://open.spotify.com/playlist/37i9dQZF1DX9tPFwDMOaN1\"\n",
    "}"
   ]
  },
  {
   "cell_type": "markdown",
   "id": "9dfd7af5",
   "metadata": {},
   "source": [
    "I tried to get Zotify to automatically download each playlist into a specific folder based on the \"genre\" key. This proved to be unworkable. The orgininal Zotify is no longer supported or working, and the fork I am using has some conflicts. Because of this, I needed to download all my music to my Music folder under [USER] and then manually copy each playlist into its proper \"MusicDB\" folder.\n",
    "\n",
    "You can see the zotify settings I used under the [config.json](zotify/config.json) file.\n"
   ]
  },
  {
   "cell_type": "code",
   "execution_count": null,
   "id": "b285ac39",
   "metadata": {},
   "outputs": [],
   "source": [
    "for genre in playlist_links:\n",
    "\n",
    "        # Download each of the playlist links. I'll have to manually move them to my Music-DB folder because Zotify \n",
    "        # does not recognize when it is being told to output to a specific directory. \n",
    "        # It always goes to the Music folder in [USER]\n",
    "        result = subprocess.run([\"zotify\",  f\"{playlist_links[genre]}\"], capture_output=True, text=True)\n",
    "        print(result.stdout)"
   ]
  },
  {
   "cell_type": "code",
   "execution_count": null,
   "id": "ac62fba9",
   "metadata": {},
   "outputs": [],
   "source": []
  }
 ],
 "metadata": {
  "kernelspec": {
   "display_name": ".conda",
   "language": "python",
   "name": "python3"
  },
  "language_info": {
   "codemirror_mode": {
    "name": "ipython",
    "version": 3
   },
   "file_extension": ".py",
   "mimetype": "text/x-python",
   "name": "python",
   "nbconvert_exporter": "python",
   "pygments_lexer": "ipython3",
   "version": "3.11.13"
  }
 },
 "nbformat": 4,
 "nbformat_minor": 5
}
